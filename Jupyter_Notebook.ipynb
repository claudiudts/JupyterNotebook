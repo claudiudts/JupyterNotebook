{
 "cells": [
  {
   "cell_type": "markdown",
   "metadata": {},
   "source": [
    "<center>\n",
    "    <img src=\"https://cf-courses-data.s3.us.cloud-object-storage.appdomain.cloud/IBMDeveloperSkillsNetwork-DS0105EN-SkillsNetwork/labs/Module2/images/SN_web_lightmode.png\" width=\"300\" alt=\"cognitiveclass.ai logo\">\n",
    "</center>\n"
   ]
  },
  {
   "cell_type": "markdown",
   "metadata": {
    "tags": []
   },
   "source": [
    "#### Add your code below following the instructions given in the course\n"
   ]
  },
  {
   "cell_type": "markdown",
   "metadata": {},
   "source": [
    "<h1>The Life of Data</h1>"
   ]
  },
  {
   "cell_type": "markdown",
   "metadata": {},
   "source": [
    "This will display information about data and how it used with various tools and languages. "
   ]
  },
  {
   "cell_type": "markdown",
   "metadata": {},
   "source": [
    "Some of the languages used for Data manipulation are \n",
    "<ol>\n",
    "    <li>R</li>\n",
    "    <li>Python</li>\n",
    "    <li>Java</li>\n",
    "    <li>Scala</li>\n",
    "    <li>Julia</li>\n",
    "</ol>"
   ]
  },
  {
   "cell_type": "markdown",
   "metadata": {},
   "source": [
    "Some of the libraries used in Data Science are\n",
    "<ol>\n",
    "    <li>Caffe</li>\n",
    "    <li>Tensor Flow</li>\n",
    "    <li>PyTorch</li>\n",
    "    <li>Java-ML</li>\n",
    "    <li>ML Lib</li>\n",
    "    <li>Dplyr</li>\n",
    "    <li>Ggplot2</li>\n",
    "</ol>"
   ]
  },
  {
   "cell_type": "markdown",
   "metadata": {},
   "source": [
    "| Tool           | Description                                             | Website                               |\n",
    "|----------------|---------------------------------------------------------|---------------------------------------|\n",
    "| Jupyter Notebook | Interactive development environment for data science | [Link](https://jupyter.org/)           |\n",
    "| Pandas         | Data manipulation library for Python                   | [Link](https://pandas.pydata.org/)     |\n",
    "| NumPy          | Numerical computing library for Python                  | [Link](https://numpy.org/)            |\n",
    "| Matplotlib     | Plotting and visualization library for Python           | [Link](https://matplotlib.org/)        |\n",
    "| Scikit-learn   | Machine learning library for Python                     | [Link](https://scikit-learn.org/)      |\n",
    "| TensorFlow     | Open-source machine learning framework                  | [Link](https://www.tensorflow.org/)    |\n",
    "| PyTorch        | Deep learning framework                                 | [Link](https://pytorch.org/)           |\n",
    "| Seaborn        | Statistical data visualization library for Python       | [Link](https://seaborn.pydata.org/)    |\n",
    "| Plotly         | Interactive plotting library                            | [Link](https://plotly.com/)            |\n"
   ]
  },
  {
   "cell_type": "markdown",
   "metadata": {
    "tags": []
   },
   "source": [
    "#Basic Arithmetic Expression Examples\n",
    "```python\n",
    "#Addition\n",
    "2 + 4\n",
    "\n",
    "#Subtraction\n",
    "3*5\n",
    "\n",
    "#Division\n",
    "1273623/323\n",
    "\n",
    "#Powers\n",
    "2**4\n"
   ]
  },
  {
   "cell_type": "code",
   "execution_count": 4,
   "metadata": {
    "tags": []
   },
   "outputs": [
    {
     "name": "stdout",
     "output_type": "stream",
     "text": [
      "Multiplication Result: 15615\n",
      "Addition Result: 2244\n"
     ]
    }
   ],
   "source": [
    "# Multiplication\n",
    "result_multiply = 5 * 3123\n",
    "print(\"Multiplication Result:\", result_multiply)\n",
    "\n",
    "# Addition\n",
    "result_add = 12 + 2232\n",
    "print(\"Addition Result:\", result_add)"
   ]
  },
  {
   "cell_type": "code",
   "execution_count": 6,
   "metadata": {
    "tags": []
   },
   "outputs": [
    {
     "name": "stdout",
     "output_type": "stream",
     "text": [
      "36594 minutes is equal to 609.90 hours\n"
     ]
    }
   ],
   "source": [
    "# Convert minutes to hours\n",
    "minutes = 36594\n",
    "hours = minutes / 60\n",
    "\n",
    "print(f\"{minutes} minutes is equal to {hours:.2f} hours\")"
   ]
  },
  {
   "cell_type": "markdown",
   "metadata": {},
   "source": [
    "## Learning Objectives\n",
    "\n",
    "In this section, we'll outline the objectives of our study:\n",
    "\n",
    "1. Understand basic arithmetic operations in Python.\n",
    "2. Learn how to perform multiplication and addition of numbers.\n",
    "3. Explore the concept of converting minutes to hours using division.\n",
    "4. Gain familiarity with using Jupyter Notebook for interactive coding and documentation.\n",
    "\n"
   ]
  },
  {
   "cell_type": "markdown",
   "metadata": {},
   "source": [
    "Author: Claudiu D. Sarb"
   ]
  },
  {
   "cell_type": "code",
   "execution_count": null,
   "metadata": {},
   "outputs": [],
   "source": []
  }
 ],
 "metadata": {
  "kernelspec": {
   "display_name": "Python",
   "language": "python",
   "name": "conda-env-python-py"
  },
  "language_info": {
   "codemirror_mode": {
    "name": "ipython",
    "version": 3
   },
   "file_extension": ".py",
   "mimetype": "text/x-python",
   "name": "python",
   "nbconvert_exporter": "python",
   "pygments_lexer": "ipython3",
   "version": "3.7.12"
  }
 },
 "nbformat": 4,
 "nbformat_minor": 4
}
